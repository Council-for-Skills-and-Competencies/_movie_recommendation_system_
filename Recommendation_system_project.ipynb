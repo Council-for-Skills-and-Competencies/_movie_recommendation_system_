{
 "cells": [
  {
   "cell_type": "code",
   "execution_count": 2,
   "id": "833a3082-61e3-4cb1-8664-360c80a649e9",
   "metadata": {},
   "outputs": [],
   "source": [
    "# Importing all neccessary Libraries\n",
    "import pandas as pd\n",
    "import numpy as np\n",
    "import matplotlib.pyplot as plt\n",
    "import seaborn as sns\n",
    "from sklearn.feature_extraction.text import TfidfVectorizer\n",
    "from sklearn.metrics.pairwise import cosine_similarity"
   ]
  },
  {
   "cell_type": "code",
   "execution_count": 3,
   "id": "b731db0d-a364-48dd-9d43-d1974c4c35c8",
   "metadata": {},
   "outputs": [],
   "source": [
    "# Load Datasets\n",
    "movies = pd.read_csv(r\"D:\\Project\\movies.csv\",encoding='ISO-8859-1')\n",
    "ratings = pd.read_csv(r\"D:\\Project\\ratings.csv\",encoding='ISO-8859-1')"
   ]
  },
  {
   "cell_type": "code",
   "execution_count": 4,
   "id": "3674f31b-9418-4905-a8ca-de53540d7b65",
   "metadata": {},
   "outputs": [
    {
     "name": "stdout",
     "output_type": "stream",
     "text": [
      "🎬 Movies Dataset:\n",
      "   movieId                               title  \\\n",
      "0        1                    Toy Story (1995)   \n",
      "1        2                      Jumanji (1995)   \n",
      "2        3             Grumpier Old Men (1995)   \n",
      "3        4            Waiting to Exhale (1995)   \n",
      "4        5  Father of the Bride Part II (1995)   \n",
      "\n",
      "                                        genres  \n",
      "0  Adventure|Animation|Children|Comedy|Fantasy  \n",
      "1                   Adventure|Children|Fantasy  \n",
      "2                               Comedy|Romance  \n",
      "3                         Comedy|Drama|Romance  \n",
      "4                                       Comedy   \n",
      "\n"
     ]
    }
   ],
   "source": [
    "# First Look at the Data\n",
    "print(\"🎬 Movies Dataset:\")\n",
    "print(movies.head(), \"\\n\")"
   ]
  },
  {
   "cell_type": "code",
   "execution_count": 5,
   "id": "d21edf2e-273c-402b-88be-7328eae3e60c",
   "metadata": {},
   "outputs": [
    {
     "name": "stdout",
     "output_type": "stream",
     "text": [
      "⭐ Ratings Dataset:\n",
      "   userId  movieId  rating   timestamp\n",
      "0       1      169     2.5  1204927694\n",
      "1       1     2471     3.0  1204927438\n",
      "2       1    48516     5.0  1204927435\n",
      "3       2     2571     3.5  1436165433\n",
      "4       2   109487     4.0  1436165496 \n",
      "\n"
     ]
    }
   ],
   "source": [
    "print(\"⭐ Ratings Dataset:\")\n",
    "print(ratings.head(), \"\\n\")"
   ]
  },
  {
   "cell_type": "code",
   "execution_count": 6,
   "id": "03be7904-4eff-4c35-b8fb-5b372cce33d5",
   "metadata": {},
   "outputs": [
    {
     "name": "stdout",
     "output_type": "stream",
     "text": [
      "Movies shape: (34208, 3)\n",
      "Ratings shape: (1048575, 4)\n"
     ]
    }
   ],
   "source": [
    "# Basic Info\n",
    "print(\"Movies shape:\", movies.shape)\n",
    "print(\"Ratings shape:\", ratings.shape)"
   ]
  },
  {
   "cell_type": "code",
   "execution_count": 7,
   "id": "22bc479b-73b4-4d7e-afd3-10a32e70ab98",
   "metadata": {},
   "outputs": [
    {
     "name": "stdout",
     "output_type": "stream",
     "text": [
      "Missing values in Movies:\n",
      " movieId    0\n",
      "title      0\n",
      "genres     0\n",
      "dtype: int64\n",
      "Missing values in Ratings:\n",
      " userId       0\n",
      "movieId      0\n",
      "rating       0\n",
      "timestamp    0\n",
      "dtype: int64\n"
     ]
    }
   ],
   "source": [
    "print(\"Missing values in Movies:\\n\", movies.isnull().sum())\n",
    "print(\"Missing values in Ratings:\\n\", ratings.isnull().sum())"
   ]
  },
  {
   "cell_type": "code",
   "execution_count": 8,
   "id": "e10bb7b3-0bdf-48af-905f-b93eb28067f6",
   "metadata": {},
   "outputs": [
    {
     "name": "stdout",
     "output_type": "stream",
     "text": [
      "\n",
      " Merged Dataset Sample:\n",
      "   userId  movieId  rating   timestamp  \\\n",
      "0       1      169     2.5  1204927694   \n",
      "1       1     2471     3.0  1204927438   \n",
      "2       1    48516     5.0  1204927435   \n",
      "3       2     2571     3.5  1436165433   \n",
      "4       2   109487     4.0  1436165496   \n",
      "\n",
      "                                     title                    genres  \n",
      "0  Free Willy 2: The Adventure Home (1995)  Adventure|Children|Drama  \n",
      "1               Crocodile Dundee II (1988)   Action|Adventure|Comedy  \n",
      "2                     Departed, The (2006)      Crime|Drama|Thriller  \n",
      "3                       Matrix, The (1999)    Action|Sci-Fi|Thriller  \n",
      "4                      Interstellar (2014)               Sci-Fi|IMAX  \n"
     ]
    }
   ],
   "source": [
    "# Merge datasets on movieId\n",
    "data = pd.merge(ratings, movies, on='movieId')\n",
    "print(\"\\n Merged Dataset Sample:\")\n",
    "print(data.head())"
   ]
  },
  {
   "cell_type": "code",
   "execution_count": 9,
   "id": "5333ba34-ad23-4700-bf6e-b32a9673ab95",
   "metadata": {},
   "outputs": [
    {
     "name": "stdout",
     "output_type": "stream",
     "text": [
      "\n",
      "--- Unique Users and Movies ---\n",
      "\n",
      "👥 Number of Unique Users: 11331\n",
      "🎞️Number of Unique Movies: 17390\n"
     ]
    }
   ],
   "source": [
    "# Unique Users and Movies\n",
    "print(\"\\n--- Unique Users and Movies ---\")\n",
    "print(\"\\n👥 Number of Unique Users:\", data['userId'].nunique())\n",
    "print(\"🎞️Number of Unique Movies:\", data['movieId'].nunique())"
   ]
  },
  {
   "cell_type": "code",
   "execution_count": 10,
   "id": "a7daa71b-d6a6-469e-b934-b3edc9023e42",
   "metadata": {},
   "outputs": [
    {
     "name": "stdout",
     "output_type": "stream",
     "text": [
      "\n",
      "--- Average Rating per Movie ---\n",
      "\n",
      "📊 Top 5 Movies by Average Rating:\n",
      "title\n",
      "Under the Domim Tree (Etz Hadomim Tafus) (1994)                         5.0\n",
      "Undefeated, The (1969)                                                  5.0\n",
      "Tyler Perry's Temptation: Confessions of a Marriage Counselor (2013)    5.0\n",
      "Twinsters (2015)                                                        5.0\n",
      "Live Forever (2003)                                                     5.0\n",
      "Name: rating, dtype: float64\n"
     ]
    }
   ],
   "source": [
    "# Average Rating per Movie\n",
    "print(\"\\n--- Average Rating per Movie ---\")\n",
    "avg_rating = data.groupby('title')['rating'].mean().sort_values(ascending=False)\n",
    "print(\"\\n📊 Top 5 Movies by Average Rating:\")\n",
    "print(avg_rating.head())"
   ]
  },
  {
   "cell_type": "code",
   "execution_count": 11,
   "id": "cd3f7614-723d-4f8c-9527-6aebdcb3a871",
   "metadata": {},
   "outputs": [
    {
     "data": {
      "image/png": "[encoded data removed]",
      "text/plain": [
       "<Figure size 800x500 with 1 Axes>"
      ]
     },
     "metadata": {},
     "output_type": "display_data"
    }
   ],
   "source": [
    "# Distribution of Ratings\n",
    "plt.figure(figsize=(8, 5))\n",
    "sns.histplot(data['rating'], bins=9, kde=True)\n",
    "plt.title(\"Distribution of Ratings\")\n",
    "plt.xlabel(\"Rating\")\n",
    "plt.ylabel(\"Count\")\n",
    "plt.show()"
   ]
  },
  {
   "cell_type": "code",
   "execution_count": 12,
   "id": "cb318b4d-d9f5-4989-afdb-23d34fc646cb",
   "metadata": {},
   "outputs": [],
   "source": [
    "# Genre Analysis\n",
    "# Split genres by '|'\n",
    "genre_data = movies.copy()\n",
    "genre_data['genres'] = genre_data['genres'].str.split('|')\n",
    "genres_exploded = genre_data.explode('genres')"
   ]
  },
  {
   "cell_type": "code",
   "execution_count": 13,
   "id": "8fe16f51-6e52-4633-93c6-08b0f0acc954",
   "metadata": {},
   "outputs": [
    {
     "data": {
      "image/png": "[encoded data removed]",
      "text/plain": [
       "<Figure size 1000x600 with 1 Axes>"
      ]
     },
     "metadata": {},
     "output_type": "display_data"
    }
   ],
   "source": [
    "# Genre Frequency\n",
    "plt.figure(figsize=(10, 6))\n",
    "sns.countplot(data=genres_exploded, y='genres', order=genres_exploded['genres'].value_counts().index)\n",
    "plt.title(\"Number of Movies per Genre\")\n",
    "plt.xlabel(\"Count\")\n",
    "plt.ylabel(\"Genre\")\n",
    "plt.show()"
   ]
  },
  {
   "cell_type": "code",
   "execution_count": 14,
   "id": "5acedc42-a215-48fc-8134-3973bc6fb7b7",
   "metadata": {},
   "outputs": [],
   "source": [
    "def popularity_based_recommender(movies, ratings, genre_input, top_n):\n",
    "    movies_exploded = movies.copy()\n",
    "    movies_exploded['genres'] = movies_exploded['genres'].fillna('').astype(str).str.split('|')\n",
    "    movies_exploded = movies_exploded.explode('genres')\n",
    "    genre_input = genre_input.lower()\n",
    "    movies_exploded['genres'] = movies_exploded['genres'].str.lower()\n",
    "\n",
    "    genre_movies = movies_exploded[movies_exploded['genres'] == genre_input]\n",
    "    \n",
    "    if genre_movies.empty:\n",
    "        return pd.DataFrame(columns=['title', 'avg_rating', 'num_reviews'])\n",
    "    \n",
    "    merged = pd.merge(ratings, genre_movies, on='movieId')\n",
    "\n",
    "    grouped = merged.groupby('title').agg(\n",
    "        avg_rating=('rating', 'mean'),\n",
    "        num_reviews=('rating', 'count')\n",
    "    ).reset_index()\n",
    "\n",
    "    result = grouped.sort_values(by=['avg_rating', 'num_reviews'], ascending=False).head(top_n)\n",
    "\n",
    "    return result.reset_index(drop=True)"
   ]
  },
  {
   "cell_type": "code",
   "execution_count": 15,
   "id": "c4338765-76a1-4600-81b1-aea60f8e96ed",
   "metadata": {},
   "outputs": [
    {
     "name": "stdout",
     "output_type": "stream",
     "text": [
      "\n",
      "Popularity-Based Recommendations:\n",
      "1. Airbag (1997)\n",
      "2. Air Force (1943)\n",
      "3. Can't Change the Meeting Place (1979)\n",
      "4. Class of 1999 (1990)\n"
     ]
    }
   ],
   "source": [
    "# 📥 INPUT\n",
    "genre = input(\"Enter Genre (e.g., Comedy): \")\n",
    "top_n = int(input(\"Enter Number of Recommendations: \"))\n",
    "\n",
    "# 📤 OUTPUT\n",
    "recommended = popularity_based_recommender(movies, ratings, genre, top_n)\n",
    "\n",
    "print(\"\\nPopularity-Based Recommendations:\")\n",
    "for i in range(len(recommended)):\n",
    "    print(f\"{i+1}. {recommended['title'][i]}\")"
   ]
  },
  {
   "cell_type": "code",
   "execution_count": 16,
   "id": "c7450639-39fe-40f0-931c-367251545af0",
   "metadata": {},
   "outputs": [
    {
     "name": "stdout",
     "output_type": "stream",
     "text": [
      "\n",
      "🎯 Pivot Table (User-Movie Ratings) — Nulls Replaced with 0:\n",
      "title   \"Great Performances\" Cats (1998)  $5 a Day (2008)  \\\n",
      "userId                                                      \n",
      "1                                    0.0              0.0   \n",
      "2                                    0.0              0.0   \n",
      "3                                    0.0              0.0   \n",
      "4                                    0.0              0.0   \n",
      "5                                    0.0              0.0   \n",
      "\n",
      "title   $ellebrity (Sellebrity) (2012)  '71 (2014)  \\\n",
      "userId                                               \n",
      "1                                  0.0         0.0   \n",
      "2                                  0.0         0.0   \n",
      "3                                  0.0         0.0   \n",
      "4                                  0.0         0.0   \n",
      "5                                  0.0         0.0   \n",
      "\n",
      "title   'Hellboy': The Seeds of Creation (2004)  \\\n",
      "userId                                            \n",
      "1                                           0.0   \n",
      "2                                           0.0   \n",
      "3                                           0.0   \n",
      "4                                           0.0   \n",
      "5                                           0.0   \n",
      "\n",
      "title   'Neath the Arizona Skies (1934)  'Round Midnight (1986)  \\\n",
      "userId                                                            \n",
      "1                                   0.0                     0.0   \n",
      "2                                   0.0                     0.0   \n",
      "3                                   0.0                     0.0   \n",
      "4                                   0.0                     0.0   \n",
      "5                                   0.0                     0.0   \n",
      "\n",
      "title   'Salem's Lot (2004)  'Til There Was You (1997)  \\\n",
      "userId                                                   \n",
      "1                       0.0                        0.0   \n",
      "2                       0.0                        0.0   \n",
      "3                       0.0                        0.0   \n",
      "4                       0.0                        0.0   \n",
      "5                       0.0                        0.0   \n",
      "\n",
      "title   'Twas the Night Before Christmas (1974)  ...  [REC]² (2009)  \\\n",
      "userId                                           ...                  \n",
      "1                                           0.0  ...            0.0   \n",
      "2                                           0.0  ...            0.0   \n",
      "3                                           0.0  ...            0.0   \n",
      "4                                           0.0  ...            0.0   \n",
      "5                                           0.0  ...            0.0   \n",
      "\n",
      "title   [REC]³ 3 Génesis (2012)  eXistenZ (1999)  iSteve (2013)  \\\n",
      "userId                                                            \n",
      "1                           0.0              0.0            0.0   \n",
      "2                           0.0              0.0            0.0   \n",
      "3                           0.0              0.0            0.0   \n",
      "4                           0.0              0.0            0.0   \n",
      "5                           0.0              0.0            0.0   \n",
      "\n",
      "title   loudQUIETloud: A Film About the Pixies (2006)  xXx (2002)  \\\n",
      "userId                                                              \n",
      "1                                                 0.0         0.0   \n",
      "2                                                 0.0         0.0   \n",
      "3                                                 0.0         0.0   \n",
      "4                                                 0.0         0.0   \n",
      "5                                                 0.0         0.0   \n",
      "\n",
      "title   xXx: State of the Union (2005)  ¡Three Amigos! (1986)  \\\n",
      "userId                                                          \n",
      "1                                  0.0                    0.0   \n",
      "2                                  0.0                    0.0   \n",
      "3                                  0.0                    0.0   \n",
      "4                                  0.0                    0.0   \n",
      "5                                  0.0                    0.0   \n",
      "\n",
      "title   À nos amours (1983)  À nous la liberté (Freedom for Us) (1931)  \n",
      "userId                                                                  \n",
      "1                       0.0                                        0.0  \n",
      "2                       0.0                                        0.0  \n",
      "3                       0.0                                        0.0  \n",
      "4                       0.0                                        0.0  \n",
      "5                       0.0                                        0.0  \n",
      "\n",
      "[5 rows x 17382 columns]\n"
     ]
    }
   ],
   "source": [
    "# Create a pivot table: users as rows, movies as columns, ratings as values\n",
    "pivot_table = data.pivot_table(index='userId', columns='title', values='rating')\n",
    "\n",
    "pivot_table.fillna(0, inplace=True)\n",
    "\n",
    "# Display part of the pivot table\n",
    "print(\"\\n🎯 Pivot Table (User-Movie Ratings) — Nulls Replaced with 0:\")\n",
    "print(pivot_table.head())"
   ]
  },
  {
   "cell_type": "code",
   "execution_count": 17,
   "id": "cf0aae1b-3563-461c-b8c8-ee14eec68326",
   "metadata": {},
   "outputs": [],
   "source": [
    "# Step 1: Create user-movie matrix\n",
    "user_movie_matrix = ratings.pivot_table(index='userId', columns='movieId', values='rating')\n",
    "item_movie_matrix = user_movie_matrix.T  # Transpose: now movies are rows\n",
    "\n",
    "# Step 2: Fill NaN with 0 for similarity computation\n",
    "item_filled = item_movie_matrix.fillna(0)\n",
    "\n",
    "# Step 3: Compute cosine similarity between movies\n",
    "item_similarity = cosine_similarity(item_filled)\n",
    "item_similarity_df = pd.DataFrame(item_similarity, index=item_filled.index, columns=item_filled.index)\n",
    "\n",
    "# Step 4: Item-based collaborative recommender\n",
    "def item_based_recommender(movie_id, top_n=5):\n",
    "    if movie_id not in item_similarity_df.index:\n",
    "        return f\"❌ Movie ID {movie_id} not found.\"\n",
    "\n",
    "    similar_scores = item_similarity_df[movie_id].sort_values(ascending=False).drop(movie_id)\n",
    "    top_similar_ids = similar_scores.head(top_n).index\n",
    "\n",
    "    return movies[movies['movieId'].isin(top_similar_ids)][['title']].reset_index(drop=True)"
   ]
  },
  {
   "cell_type": "code",
   "execution_count": 18,
   "id": "c362c88a-dd4c-4894-aba7-f3eef08e66c7",
   "metadata": {},
   "outputs": [
    {
     "name": "stdout",
     "output_type": "stream",
     "text": [
      "\n",
      "🎯 Item-Based Collaborative Recommendations:\n",
      "❌ Movie title not found.\n"
     ]
    }
   ],
   "source": [
    "# 📥 INPUT\n",
    "movie_title = input(\"Enter a Movie Title (e.g., Toy Story): \")\n",
    "top_n = int(input(\"Enter Number of Similar Movies to Recommend: \"))\n",
    "\n",
    "# Find movie ID from title\n",
    "movie_row = movies[movies['title'].str.lower() == movie_title.lower()]\n",
    "\n",
    "# 📤 OUTPUT\n",
    "print(\"\\n🎯 Item-Based Collaborative Recommendations:\")\n",
    "if movie_row.empty:\n",
    "    print(\"❌ Movie title not found.\")\n",
    "else:\n",
    "    movie_id = movie_row.iloc[0]['movieId']\n",
    "    recommendations = item_based_recommender(movie_id, top_n=top_n)\n",
    "    print(recommendations)"
   ]
  },
  {
   "cell_type": "code",
   "execution_count": 19,
   "id": "ddae65b8",
   "metadata": {},
   "outputs": [],
   "source": [
    "import pickle\n",
    "\n",
    "with open('movies.pkl', 'wb') as f:\n",
    "    pickle.dump(movies, f)"
   ]
  },
  {
   "cell_type": "code",
   "execution_count": null,
   "id": "73deca84",
   "metadata": {},
   "outputs": [],
   "source": []
  },
  {
   "cell_type": "markdown",
   "id": "39e73fd7",
   "metadata": {},
   "source": [
    "# Web Application for Movie Recommendation System\n",
    "\n",
    "This cell provides a step-by-step guide and code to build a web page for your movie recommendation system using Flask (Python backend), HTML, and custom CSS.  \n",
    "**Features:**  \n",
    "- Genre-based and item-based recommendations  \n",
    "- Custom CSS for a modern look  \n",
    "- Simple, user-friendly interface\n",
    "\n",
    "**Steps:**  \n",
    "1. Save your trained functions and data loading logic into a Python file (e.g., `recommender.py`).  \n",
    "2. Create a Flask app (`app.py`) to serve recommendations via web forms.  \n",
    "3. Add HTML templates and custom CSS for the frontend.  \n",
    "4. Run the Flask app and access the web page in your browser."
   ]
  },
  {
   "cell_type": "code",
   "execution_count": 20,
   "id": "4e7caab9",
   "metadata": {},
   "outputs": [
    {
     "name": "stdout",
     "output_type": "stream",
     "text": [
      "🎬 Movies Dataset:\n"
     ]
    },
    {
     "ename": "NameError",
     "evalue": "name 'movies' is not defined",
     "output_type": "error",
     "traceback": [
      "\u001b[31m---------------------------------------------------------------------------\u001b[39m",
      "\u001b[31mNameError\u001b[39m                                 Traceback (most recent call last)",
      "\u001b[36mCell\u001b[39m\u001b[36m \u001b[39m\u001b[32mIn[20]\u001b[39m\u001b[32m, line 7\u001b[39m\n\u001b[32m      5\u001b[39m \u001b[38;5;28;01mfrom\u001b[39;00m\u001b[38;5;250m \u001b[39m\u001b[34;01mflask\u001b[39;00m\u001b[38;5;250m \u001b[39m\u001b[38;5;28;01mimport\u001b[39;00m Flask, render_template, request\n\u001b[32m      6\u001b[39m \u001b[38;5;28;01mimport\u001b[39;00m\u001b[38;5;250m \u001b[39m\u001b[34;01mpandas\u001b[39;00m\u001b[38;5;250m \u001b[39m\u001b[38;5;28;01mas\u001b[39;00m\u001b[38;5;250m \u001b[39m\u001b[34;01mpd\u001b[39;00m\n\u001b[32m----> \u001b[39m\u001b[32m7\u001b[39m \u001b[38;5;28;01mfrom\u001b[39;00m\u001b[38;5;250m \u001b[39m\u001b[34;01mrecommender\u001b[39;00m\u001b[38;5;250m \u001b[39m\u001b[38;5;28;01mimport\u001b[39;00m popularity_based_recommender, item_based_recommender, movies, ratings\n\u001b[32m      9\u001b[39m app = Flask(\u001b[34m__name__\u001b[39m)\n\u001b[32m     11\u001b[39m \u001b[38;5;129m@app\u001b[39m.route(\u001b[33m'\u001b[39m\u001b[33m/\u001b[39m\u001b[33m'\u001b[39m, methods=[\u001b[33m'\u001b[39m\u001b[33mGET\u001b[39m\u001b[33m'\u001b[39m, \u001b[33m'\u001b[39m\u001b[33mPOST\u001b[39m\u001b[33m'\u001b[39m])\n\u001b[32m     12\u001b[39m \u001b[38;5;28;01mdef\u001b[39;00m\u001b[38;5;250m \u001b[39m\u001b[34mindex\u001b[39m():\n",
      "\u001b[36mFile \u001b[39m\u001b[32md:\\Project\\recommender.py:10\u001b[39m\n\u001b[32m      8\u001b[39m     \u001b[38;5;66;03m# First Look at the Data\u001b[39;00m\n\u001b[32m      9\u001b[39m \u001b[38;5;28mprint\u001b[39m(\u001b[33m\"\u001b[39m\u001b[33m🎬 Movies Dataset:\u001b[39m\u001b[33m\"\u001b[39m)\n\u001b[32m---> \u001b[39m\u001b[32m10\u001b[39m \u001b[38;5;28mprint\u001b[39m(\u001b[43mmovies\u001b[49m.head(), \u001b[33m\"\u001b[39m\u001b[38;5;130;01m\\n\u001b[39;00m\u001b[33m\"\u001b[39m)\n\u001b[32m     13\u001b[39m \u001b[38;5;28mprint\u001b[39m(\u001b[33m\"\u001b[39m\u001b[33m⭐ Ratings Dataset:\u001b[39m\u001b[33m\"\u001b[39m)\n\u001b[32m     14\u001b[39m \u001b[38;5;28mprint\u001b[39m(ratings.head(), \u001b[33m\"\u001b[39m\u001b[38;5;130;01m\\n\u001b[39;00m\u001b[33m\"\u001b[39m)\n",
      "\u001b[31mNameError\u001b[39m: name 'movies' is not defined"
     ]
    }
   ],
   "source": [
    "# 1. Save your recommender logic in recommender.py\n",
    "# (Copy your popularity_based_recommender and item_based_recommender functions, and data loading code)\n",
    "\n",
    "# 2. Create app.py (Flask web server)\n",
    "from flask import Flask, render_template, request\n",
    "import pandas as pd\n",
    "from recommender import popularity_based_recommender, item_based_recommender, movies, ratings\n",
    "\n",
    "app = Flask(__name__)\n",
    "\n",
    "@app.route('/', methods=['GET', 'POST'])\n",
    "def index():\n",
    "    genre_result = None\n",
    "    item_result = None\n",
    "    if request.method == 'POST':\n",
    "        if 'genre' in request.form:\n",
    "            genre = request.form['genre']\n",
    "            top_n = int(request.form.get('top_n', 5))\n",
    "            genre_result = popularity_based_recommender(movies, ratings, genre, top_n)\n",
    "        if 'movie_title' in request.form:\n",
    "            movie_title = request.form['movie_title']\n",
    "            top_n = int(request.form.get('top_n_item', 5))\n",
    "            movie_row = movies[movies['title'].str.lower() == movie_title.lower()]\n",
    "            if not movie_row.empty:\n",
    "                movie_id = movie_row.iloc[0]['movieId']\n",
    "                item_result = item_based_recommender(movie_id, top_n=top_n)\n",
    "            else:\n",
    "                item_result = pd.DataFrame({'title': ['Movie not found.']})\n",
    "    return render_template('index.html', genre_result=genre_result, item_result=item_result)\n",
    "\n",
    "if __name__ == '__main__':\n",
    "    app.run(debug=True)"
   ]
  },
  {
   "cell_type": "markdown",
   "id": "3b3cb4ee",
   "metadata": {},
   "source": [
    "## 3. Create `templates/index.html` for the frontend\n",
    "\n",
    "```html\n",
    "<!DOCTYPE html>\n",
    "<html lang=\"en\">\n",
    "<head>\n",
    "    <meta charset=\"UTF-8\">\n",
    "    <title>Movie Recommendation System</title>\n",
    "    <link rel=\"stylesheet\" href=\"{{ url_for('static', filename='style.css') }}\">\n",
    "</head>\n",
    "<body>\n",
    "    <div class=\"container\">\n",
    "        <h1>🎬 Movie Recommendation System</h1>\n",
    "        <form method=\"post\">\n",
    "            <div class=\"form-section\">\n",
    "                <h2>Genre-based Recommendations</h2>\n",
    "                <input type=\"text\" name=\"genre\" placeholder=\"Enter Genre (e.g., Comedy)\" required>\n",
    "                <input type=\"number\" name=\"top_n\" min=\"1\" max=\"20\" value=\"5\">\n",
    "                <button type=\"submit\">Recommend by Genre</button>\n",
    "            </div>\n",
    "            {% if genre_result is not none %}\n",
    "                <div class=\"results\">\n",
    "                    <h3>Top Recommendations:</h3>\n",
    "                    <ul>\n",
    "                        {% for idx, row in genre_result.iterrows() %}\n",
    "                            <li>{{ loop.index }}. {{ row['title'] }}</li>\n",
    "                        {% endfor %}\n",
    "                    </ul>\n",
    "                </div>\n",
    "            {% endif %}\n",
    "            <hr>\n",
    "            <div class=\"form-section\">\n",
    "                <h2>Item-based Recommendations</h2>\n",
    "                <input type=\"text\" name=\"movie_title\" placeholder=\"Enter Movie Title\" required>\n",
    "                <input type=\"number\" name=\"top_n_item\" min=\"1\" max=\"20\" value=\"5\">\n",
    "                <button type=\"submit\">Recommend Similar Movies</button>\n",
    "            </div>\n",
    "            {% if item_result is not none %}\n",
    "                <div class=\"results\">\n",
    "                    <h3>Similar Movies:</h3>\n",
    "                    <ul>\n",
    "                        {% for idx, row in item_result.iterrows() %}\n",
    "                            <li>{{ loop.index }}. {{ row['title'] }}</li>\n",
    "                        {% endfor %}\n",
    "                    </ul>\n",
    "                </div>\n",
    "            {% endif %}\n",
    "        </form>\n",
    "    </div>\n",
    "</body>\n",
    "</html>\n",
    "```"
   ]
  },
  {
   "cell_type": "markdown",
   "id": "117ed0f6",
   "metadata": {},
   "source": [
    "## 4. Create `static/style.css` for custom styling\n",
    "\n",
    "```css\n",
    "body {\n",
    "    background: #181c24;\n",
    "    color: #f5f5f5;\n",
    "    font-family: 'Segoe UI', Arial, sans-serif;\n",
    "    margin: 0;\n",
    "    padding: 0;\n",
    "}\n",
    ".container {\n",
    "    max-width: 600px;\n",
    "    margin: 40px auto;\n",
    "    background: #232a34;\n",
    "    border-radius: 12px;\n",
    "    box-shadow: 0 4px 24px rgba(0,0,0,0.2);\n",
    "    padding: 32px 40px;\n",
    "}\n",
    "h1, h2, h3 {\n",
    "    color: #ffb347;\n",
    "    margin-bottom: 16px;\n",
    "}\n",
    ".form-section {\n",
    "    margin-bottom: 24px;\n",
    "}\n",
    "input[type=\"text\"], input[type=\"number\"] {\n",
    "    padding: 8px 12px;\n",
    "    border-radius: 6px;\n",
    "    border: none;\n",
    "    margin-right: 8px;\n",
    "    margin-bottom: 8px;\n",
    "    font-size: 1em;\n",
    "}\n",
    "button {\n",
    "    background: #ffb347;\n",
    "    color: #232a34;\n",
    "    border: none;\n",
    "    border-radius: 6px;\n",
    "    padding: 8px 18px;\n",
    "    font-size: 1em;\n",
    "    cursor: pointer;\n",
    "    transition: background 0.2s;\n",
    "}\n",
    "button:hover {\n",
    "    background: #ffd580;\n",
    "}\n",
    ".results {\n",
    "    background: #2e3642;\n",
    "    border-radius: 8px;\n",
    "    padding: 16px;\n",
    "    margin-top: 12px;\n",
    "}\n",
    "ul {\n",
    "    padding-left: 20px;\n",
    "}\n",
    "li {\n",
    "    margin-bottom: 6px;\n",
    "}\n",
    "hr {\n",
    "    border: 0;\n",
    "    border-top: 1px solid #444;\n",
    "    margin: 24px 0;\n",
    "}\n",
    "```"
   ]
  },
  {
   "cell_type": "markdown",
   "id": "4989411d",
   "metadata": {},
   "source": [
    "## 5. How to Run\n",
    "\n",
    "1. Place your `recommender.py`, `app.py`, `templates/index.html`, and `static/style.css` in the same project folder.\n",
    "2. Install Flask:  \n",
    "   `pip install flask`\n",
    "3. Run the app:  \n",
    "   `python app.py`\n",
    "4. Open [http://127.0.0.1:5000](http://127.0.0.1:5000) in your browser.\n",
    "\n",
    "You now have a web page for your recommendation system with custom CSS and interactive forms!"
   ]
  }
 ],
 "metadata": {
  "kernelspec": {
   "display_name": "Python 3",
   "language": "python",
   "name": "python3"
  },
  "language_info": {
   "codemirror_mode": {
    "name": "ipython",
    "version": 3
   },
   "file_extension": ".py",
   "mimetype": "text/x-python",
   "name": "python",
   "nbconvert_exporter": "python",
   "pygments_lexer": "ipython3",
   "version": "3.13.5"
  }
 },
 "nbformat": 4,
 "nbformat_minor": 5
}
